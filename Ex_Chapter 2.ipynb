{
 "cells": [
  {
   "cell_type": "code",
   "execution_count": 4,
   "metadata": {},
   "outputs": [
    {
     "name": "stdout",
     "output_type": "stream",
     "text": [
      "Nhap ten: Xuyen\n",
      "Nhap nam sinh: 1995\n",
      "Nhap can nang (kg): 41\n",
      "Nhap chieu cao (m): 1.63\n",
      "[1] \"Name:  Xuyen Year of Birth:  1995 Height:  1.63 Weight:  41 BMI:  15.43\"\n"
     ]
    }
   ],
   "source": [
    "#Ex1: Thong tin ca nhan\n",
    "\n",
    "ten = readline(prompt=\"Nhap ten: \")\n",
    "\n",
    "nam_sinh= readline(prompt=\"Nhap nam sinh: \")\n",
    "nam_sinh= as.integer(nam_sinh)\n",
    "\n",
    "can_nang= readline(prompt=\"Nhap can nang (kg): \")\n",
    "can_nang= as.double(can_nang)\n",
    "\n",
    "chieu_cao= readline(prompt=\"Nhap chieu cao (m): \")\n",
    "chieu_cao= as.double(chieu_cao)\n",
    "\n",
    "BMI = can_nang/(chieu_cao^2)\n",
    "\n",
    "print(paste(\"Name: \", ten,\"Year of Birth: \",nam_sinh, \"Height: \", chieu_cao,\"Weight: \", can_nang,\"BMI: \",round(BMI,2)))\n"
   ]
  },
  {
   "cell_type": "code",
   "execution_count": 9,
   "metadata": {},
   "outputs": [
    {
     "name": "stdout",
     "output_type": "stream",
     "text": [
      "Total of foods and drinks: 100000000\n",
      "Tax (10-20 %): 10\n",
      "Tip (5-10 %): 5\n",
      "[1] \"Total of foods and drinks:  100000000\"\n",
      "[1] \"Tax:  1e+07\"\n",
      "[1] \"Tip:  5e+06\"\n",
      "[1] \"You need to pay (total):  1.15e+08 VND\"\n"
     ]
    }
   ],
   "source": [
    "#Ex2: Tinh tien hoa don an uong\n",
    "# without scientific=FALSE => default = TRUE\n",
    "amount= as.integer(readline(prompt=\"Total of foods and drinks: \"))\n",
    "tax= as.integer(readline(prompt=\"Tax (10-20 %): \"))\n",
    "tip= as.integer(readline(prompt=\"Tip (5-10 %): \"))\n",
    "\n",
    "print(paste(\"Total of foods and drinks: \",amount))\n",
    "print(paste(\"Tax: \", amount*tax/100))\n",
    "print(paste(\"Tip: \", amount*tip/100))\n",
    "print(paste(\"You need to pay (total): \", amount*(1+ tax/100 +tip/100),\"VND\"))\n",
    "      "
   ]
  },
  {
   "cell_type": "code",
   "execution_count": 12,
   "metadata": {},
   "outputs": [
    {
     "name": "stdout",
     "output_type": "stream",
     "text": [
      "Total of foods and drinks: 100000000\n",
      "Tax (10-20 %): 10\n",
      "Tip (5-10 %): 5\n",
      "[1] \"Total of foods and drinks:  100000000\"\n",
      "[1] \"Tax:  10000000\"\n",
      "[1] \"Tip:  5000000\"\n",
      "[1] \"You need to pay (total):  115000000 VND\"\n"
     ]
    }
   ],
   "source": [
    "#Ex2: Tinh tien hoa don an uong\n",
    "# with scientific=FALSE \n",
    "amount= as.integer(readline(prompt=\"Total of foods and drinks: \"))\n",
    "tax= as.integer(readline(prompt=\"Tax (10-20 %): \"))\n",
    "tip= as.integer(readline(prompt=\"Tip (5-10 %): \"))\n",
    "\n",
    "print(paste(\"Total of foods and drinks: \",format(amount, scientific=FALSE)))\n",
    "print(paste(\"Tax: \", format(amount*tax/100, scientific=FALSE)))\n",
    "print(paste(\"Tip: \", format(amount*tip/100, scientific=FALSE)))\n",
    "print(paste(\"You need to pay (total): \", format(amount*(1+ tax/100 +tip/100),scientific=FALSE),\"VND\"))\n",
    "      "
   ]
  },
  {
   "cell_type": "code",
   "execution_count": null,
   "metadata": {},
   "outputs": [],
   "source": []
  }
 ],
 "metadata": {
  "kernelspec": {
   "display_name": "R",
   "language": "R",
   "name": "ir"
  },
  "language_info": {
   "codemirror_mode": "r",
   "file_extension": ".r",
   "mimetype": "text/x-r-source",
   "name": "R",
   "pygments_lexer": "r",
   "version": "4.0.2"
  }
 },
 "nbformat": 4,
 "nbformat_minor": 4
}
